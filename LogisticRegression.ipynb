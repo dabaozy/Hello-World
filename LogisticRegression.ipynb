{
 "cells": [
  {
   "cell_type": "markdown",
   "metadata": {},
   "source": [
    "#   <font color=\"blue\"> Logistic Regression </font>"
   ]
  },
  {
   "attachments": {},
   "cell_type": "markdown",
   "metadata": {},
   "source": [
    "## 1. 内容回顾\n",
    "\n",
    "\n",
    "- 线性回归问题是一个简单直观又有精确解的问题(normal equation)。它包含了监督学习所有的要素和流程：对于一个训练集 $\\{x^i,y^i\\}$,通过最小化 cost fuction $J$ 寻找最优的参数集合 $\\{\\theta\\}$,得到 $y$ 的有效近似，即 hypothesis function $h_\\theta(x)$。在后继的课程中，我们会一再引用这个例子来展示监督学习的重要概念比如正则化(Regularization)和推广能力（亦称泛化能力,Generalization)。\n",
    "\n",
    "\n",
    "- 在上部分内容中，我们用函数拟合的例子来测试基于梯度下降的线性回归算法。在这里，线性回归实际上就是用多项式去拟合训练集。多项式的项数就是输入矢量 $x$ 的特征数。我们首先利用扰动的多项式函数生成训练集 $y^i=f(x^i)+random\\ number$,这样我们对训练集就有一个基本的认识，知道大概用多少项的多项式去拟合。我们称之为先验知识(prior knowledge)。而对于非多项式的非线性函数，比如 $\\frac{sin(x)}{x}$，我们可以用试探的方法确定输入矢量的特征数。过多特征的引入可以得到更精确的拟合结果，但把随机数的信息也学进去了(过拟合，overfitting)，这是我们需要避免的结果，后面我们会看到，这样会极大的降低 hypothesis function 的推广能力（预测新数据的能力）。\n",
    "\n",
    "\n",
    "- 在线性回归算法中，<br>\n",
    "    - hypothesis function 定义为：$$h_\\theta(x)=\\theta_0+\\theta_1x_1+\\theta_2x_2+\\theta_3x_3+...=\\theta^Tx$$ <br>\n",
    "    - cost function 定义为：$$J=\\frac{1}{2m}\\sum_{i=1}^{m}(h_\\theta(x^i)-y^i)^2$$ <br>\n",
    "    - 梯度下降算法：<br>\n",
    "\n",
    "$$\\theta_j:=\\theta_j-\\frac{\\alpha}{m}\\sum_{i=1}^{m}(h_\\theta(x^i)-y^i)x_j^i \\quad (\\ for\\ every\\ j\\ )$$   \n"
   ]
  },
  {
   "cell_type": "markdown",
   "metadata": {},
   "source": [
    "## 2. Logistic Regression\n",
    "\n",
    "在线性回归算法中，<br>\n",
    "    - hypothesis function 定义为：$$h_\\theta(x)=\\theta_0+\\theta_1x_1+\\theta_2x_2+\\theta_3x_3+...=\\theta^Tx$$ <br>\n",
    "    - cost function 定义为：$$J=\\frac{1}{2m}\\sum_{i=1}^{m}(h_\\theta(x^i)-y^i)^2$$ <br>\n",
    "    - 梯度下降算法：<br>\n",
    "\n",
    "$$\\theta_j:=\\theta_j-\\frac{\\alpha}{m}\\sum_{i=1}^{m}(h_\\theta(x^i)-y^i)x_j^i \\quad (\\ for\\ every\\ j\\ )$$   \n"
   ]
  },
  {
   "cell_type": "markdown",
   "metadata": {},
   "source": [
    "## 3. 程序和结果"
   ]
  },
  {
   "cell_type": "markdown",
   "metadata": {},
   "source": [
    "### <font color=\"red\"> 构造归一化的输入矢量</font>\n",
    "|$x_0$|$x_1$|$x_2$|$x_3$|...|\n",
    "|-----|-----|-----|-----|---|\n",
    "|1   |$x$  |$x^2$|$x^3$|...|"
   ]
  },
  {
   "cell_type": "code",
   "execution_count": 90,
   "metadata": {
    "collapsed": true
   },
   "outputs": [],
   "source": [
    "clear;\n",
    "m=30; % 训练样本数\n",
    "n=2;  % 特征数（输入 x 的分量数）\n",
    "x0=ones(m,1); % 偏置矢量\n",
    "xx=x0;\n",
    "x=sort(rand(m,1));\n",
    "for i=1:n\n",
    "fx(:,i)=(x.^i-mean(x.^i))/std(x.^i); % 注意这里的 \".\"\n",
    "xx=[xx,fx(:,i)]; % m*(n+1) 的输入矩阵\n",
    "end"
   ]
  },
  {
   "cell_type": "markdown",
   "metadata": {},
   "source": [
    "###  <font color=\"red\"> 生成训练样本集</font>\n",
    "这里采用 $y=a+bx+cx^2$ 加随机数，同学们也可以试试其它非线性函数。比如 $\\frac{sin(x)}{x}$。"
   ]
  },
  {
   "cell_type": "code",
   "execution_count": 91,
   "metadata": {
    "collapsed": true
   },
   "outputs": [],
   "source": [
    "a=1;b=-2;c=1;rs=0.8; %线性函数的参数，rs 为扰动强度\n",
    "rx=rand(m,1)-0.5; %均值为 0，方差为 1 的扰动\n",
    "y=a+b*xx(:,2)+c*xx(:,3)+rs*rx; % 样本数为 m 的训练集"
   ]
  },
  {
   "cell_type": "markdown",
   "metadata": {},
   "source": [
    "###  <font color=\"red\"> Batch 梯度下降</font>"
   ]
  },
  {
   "cell_type": "code",
   "execution_count": 92,
   "metadata": {
    "collapsed": true
   },
   "outputs": [],
   "source": [
    "theta=rand(n+1,1); % 随机指定参数初值\n",
    "iter=5000;        % 梯度下降迭代次数\n",
    "alpha=0.05;       % 学习步长\n",
    "J_history=zeros(iter,1);\n",
    "%theta_s=theta;\n",
    "for i=1:iter\n",
    "%theta(1)=theta(1)-alpha/m*sum(xx*theta_s-y);\n",
    "%theta(2)=theta(2)-alpha/m*sum((xx*theta_s-y).*xx(:,2));\n",
    "%theta(3)=theta(3)-alpha/m*sum((xx*theta_s-y).*xx(:,3));\n",
    "%theta_s=theta;\n",
    "theta=theta-alpha/m*xx'*(xx*theta-y); % 注意这里的矩阵算式的写法，等价于上面注释掉的语句。自动实现参数同时更新。\n",
    "J_history(i)=sum((xx*theta-y).^2)/(2*m); % 计算每次迭代的 cost functions,也就是训练误差。\n",
    "end"
   ]
  },
  {
   "cell_type": "markdown",
   "metadata": {},
   "source": [
    "###  <font color=\"red\"> 计算结果</font>\n",
    "* $\\theta$  (预设参数为 $a =1$;$b =-2$;$c =1$)"
   ]
  },
  {
   "cell_type": "code",
   "execution_count": 93,
   "metadata": {},
   "outputs": [
    {
     "name": "stdout",
     "output_type": "stream",
     "text": [
      "theta =\n",
      "\n",
      "   0.99149\n",
      "  -1.87004\n",
      "   0.80709\n",
      "\n"
     ]
    }
   ],
   "source": [
    "theta"
   ]
  },
  {
   "cell_type": "markdown",
   "metadata": {},
   "source": [
    "* 迭代最后五步的误差(cost function) $J$，已经不发生变化了，但是其值不一定接近 $0$. 这提示我们收敛条件应该设成 cost function 的变化小于某一小值，而不能直接设成 cost function 小于某值。否则容易进入死循环。"
   ]
  },
  {
   "cell_type": "code",
   "execution_count": 94,
   "metadata": {},
   "outputs": [
    {
     "name": "stdout",
     "output_type": "stream",
     "text": [
      "ans =\n",
      "\n",
      "   0.024862\n",
      "   0.024862\n",
      "   0.024862\n",
      "   0.024862\n",
      "   0.024862\n",
      "   0.024862\n",
      "\n"
     ]
    }
   ],
   "source": [
    "J_history(iter-5:iter)"
   ]
  },
  {
   "cell_type": "markdown",
   "metadata": {},
   "source": [
    "* 解析结果 （normal equation），与梯度下降法得到的结果一致。"
   ]
  },
  {
   "cell_type": "code",
   "execution_count": 95,
   "metadata": {},
   "outputs": [
    {
     "name": "stdout",
     "output_type": "stream",
     "text": [
      "theta2 =\n",
      "\n",
      "   0.99149\n",
      "  -1.87157\n",
      "   0.80862\n",
      "\n",
      "J2 =  0.024862\n"
     ]
    }
   ],
   "source": [
    "theta2 = pinv( xx' * xx ) * xx' * y  % 一步得到拟合参数\n",
    "J2=sum((xx*theta2-y).^2/(2*m))       % 误差"
   ]
  },
  {
   "cell_type": "markdown",
   "metadata": {},
   "source": [
    "* 拟合结果可视化"
   ]
  },
  {
   "cell_type": "code",
   "execution_count": 96,
   "metadata": {},
   "outputs": [
    {
     "data": {
      "image/png": "[encoded data removed]",
      "text/plain": [
       "<IPython.core.display.Image object>"
      ]
     },
     "metadata": {},
     "output_type": "display_data"
    }
   ],
   "source": [
    "hold on;box on;\n",
    "plot(xx(:,2),y,\"ro;Traning Set;\")\n",
    "plot(xx(:,2),xx*theta,\"b^;Gradient Descent;\",'MarkerSize',6)\n",
    "plot(xx(:,2),xx*theta2,\"k-;Normal Equation;\",'LineWidth',2)\n",
    "xlabel('x');\n",
    "ylabel('y');\n",
    "title('Best Fitting');"
   ]
  },
  {
   "cell_type": "markdown",
   "metadata": {},
   "source": [
    "## 讨论\n",
    "线性回归在这类问题上表现不错，但是最大局限是必须事先知道拟合函数（即输入的特征完全确定）。这使线性回归显得不那么智能。如果不告诉你训练集由什么函数生成的，要怎么做呢？有没有办法让机器自动选择输入特征呢？"
   ]
  }
 ],
 "metadata": {
  "kernelspec": {
   "display_name": "Octave",
   "language": "octave",
   "name": "octave"
  },
  "language_info": {
   "file_extension": ".m",
   "help_links": [
    {
     "text": "GNU Octave",
     "url": "https://www.gnu.org/software/octave/support.html"
    },
    {
     "text": "Octave Kernel",
     "url": "https://github.com/Calysto/octave_kernel"
    },
    {
     "text": "MetaKernel Magics",
     "url": "https://github.com/calysto/metakernel/blob/master/metakernel/magics/README.md"
    }
   ],
   "mimetype": "text/x-octave",
   "name": "octave",
   "version": "4.2.0"
  }
 },
 "nbformat": 4,
 "nbformat_minor": 2
}
